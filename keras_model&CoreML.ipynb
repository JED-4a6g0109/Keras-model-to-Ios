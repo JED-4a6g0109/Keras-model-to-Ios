{
 "cells": [
  {
   "cell_type": "code",
   "execution_count": 1,
   "metadata": {},
   "outputs": [
    {
     "name": "stderr",
     "output_type": "stream",
     "text": [
      "Using TensorFlow backend.\n"
     ]
    },
    {
     "name": "stdout",
     "output_type": "stream",
     "text": [
      "Found 1872 images belonging to 11 classes.\n",
      "Found 5606 images belonging to 11 classes.\n"
     ]
    }
   ],
   "source": [
    "import os\n",
    "import numpy as np\n",
    "from keras.models import Sequential, load_model\n",
    "from keras.preprocessing.image import ImageDataGenerator\n",
    "from keras.layers import Dense, Dropout, Flatten, Conv2D, MaxPooling2D\n",
    "import tensorflow as tf\n",
    "import matplotlib.pyplot as plt\n",
    "%matplotlib inline\n",
    "\n",
    "train_path = 'C:\\\\Users\\\\tomto\\\\Downloads\\\\fruits\\\\fruits-360\\\\Test'\n",
    "test_path = 'C:\\\\Users\\\\tomto\\\\Downloads\\\\fruits\\\\fruits-360\\\\Training'\n",
    "\n",
    "train_labels = os.listdir(train_path)\n",
    "test_labels = os.listdir(test_path)\n",
    "train_generator = ImageDataGenerator(rescale=1./255)\n",
    "test_generator = ImageDataGenerator(rescale=1./255)\n",
    "\n",
    "train_data = train_generator.flow_from_directory(train_path, batch_size=32, classes=train_labels, target_size=(64,64))\n",
    "test_data = test_generator.flow_from_directory(test_path, batch_size=32, classes=train_labels, target_size=(64,64))\n"
   ]
  },
  {
   "cell_type": "code",
   "execution_count": 2,
   "metadata": {},
   "outputs": [
    {
     "name": "stdout",
     "output_type": "stream",
     "text": [
      "Model: \"sequential_1\"\n",
      "_________________________________________________________________\n",
      "Layer (type)                 Output Shape              Param #   \n",
      "=================================================================\n",
      "conv2d_1 (Conv2D)            (None, 64, 64, 16)        448       \n",
      "_________________________________________________________________\n",
      "max_pooling2d_1 (MaxPooling2 (None, 32, 32, 16)        0         \n",
      "_________________________________________________________________\n",
      "conv2d_2 (Conv2D)            (None, 32, 32, 32)        4640      \n",
      "_________________________________________________________________\n",
      "max_pooling2d_2 (MaxPooling2 (None, 16, 16, 32)        0         \n",
      "_________________________________________________________________\n",
      "conv2d_3 (Conv2D)            (None, 16, 16, 64)        18496     \n",
      "_________________________________________________________________\n",
      "max_pooling2d_3 (MaxPooling2 (None, 8, 8, 64)          0         \n",
      "_________________________________________________________________\n",
      "flatten_1 (Flatten)          (None, 4096)              0         \n",
      "_________________________________________________________________\n",
      "dropout_1 (Dropout)          (None, 4096)              0         \n",
      "_________________________________________________________________\n",
      "dense_1 (Dense)              (None, 256)               1048832   \n",
      "_________________________________________________________________\n",
      "dense_2 (Dense)              (None, 11)                2827      \n",
      "=================================================================\n",
      "Total params: 1,075,243\n",
      "Trainable params: 1,075,243\n",
      "Non-trainable params: 0\n",
      "_________________________________________________________________\n",
      "Epoch 1/5\n",
      "1000/1000 [==============================] - 31s 31ms/step - loss: 0.0150 - accuracy: 0.9950 - val_loss: 0.1404 - val_accuracy: 0.9857\n",
      "Epoch 2/5\n",
      "1000/1000 [==============================] - 32s 32ms/step - loss: 0.0023 - accuracy: 0.9998 - val_loss: 0.0643 - val_accuracy: 0.9852\n",
      "Epoch 3/5\n",
      "1000/1000 [==============================] - 34s 34ms/step - loss: 0.0010 - accuracy: 0.9999 - val_loss: 0.1791 - val_accuracy: 0.9844\n",
      "Epoch 4/5\n",
      "1000/1000 [==============================] - 36s 36ms/step - loss: 5.0716e-04 - accuracy: 0.9999 - val_loss: 0.2338 - val_accuracy: 0.9864\n",
      "Epoch 5/5\n",
      "1000/1000 [==============================] - 33s 33ms/step - loss: 3.0888e-04 - accuracy: 1.0000 - val_loss: 0.0973 - val_accuracy: 0.9877\n",
      "176/176 [==============================] - 4s 21ms/step\n"
     ]
    },
    {
     "data": {
      "image/png": "[encoded data removed]",
      "text/plain": [
       "<Figure size 432x288 with 1 Axes>"
      ]
     },
     "metadata": {
      "needs_background": "light"
     },
     "output_type": "display_data"
    }
   ],
   "source": [
    "cnn = Sequential()\n",
    "\n",
    "cnn.add(Conv2D(16, (3, 3), input_shape = (64, 64, 3), padding = \"same\", activation = \"relu\"))\n",
    "cnn.add(MaxPooling2D())\n",
    "\n",
    "cnn.add(Conv2D(32, (3,3), padding='same', activation='relu'))\n",
    "cnn.add(MaxPooling2D())\n",
    "\n",
    "cnn.add(Conv2D(64, (3,3), padding='same', activation='relu'))\n",
    "cnn.add(MaxPooling2D())\n",
    "\n",
    "cnn.add(Flatten())\n",
    "\n",
    "cnn.add(Dropout(0.25))\n",
    "\n",
    "cnn.add(Dense(256, activation = \"relu\"))\n",
    "cnn.add(Dense(len(train_labels), activation = \"sigmoid\"))\n",
    "# cnn.add(Dense(len(train_labels), activation = \"softmax\"))\n",
    "\n",
    "# cnn.compile(optimizer='adam', loss='categorical_crossentropy', metrics=['accuracy'])\n",
    "cnn.compile(optimizer='rmsprop', loss='binary_crossentropy', metrics=['accuracy'])\n",
    "cnn.summary()\n",
    "\n",
    "#GPU設定\n",
    "#如果要用CPU也是可以但會慢很多\n",
    "os.environ[\"CUDA_VISIBLE_DEVICES\"]=\"0\"\n",
    "with tf.device('/GPU:0'):\n",
    "    history = cnn.fit(\n",
    "        train_data, \n",
    "        steps_per_epoch=1000, \n",
    "        epochs=5, \n",
    "        validation_steps=400, \n",
    "        validation_data=test_data)\n",
    "    \n",
    "\n",
    "\n",
    "plt.plot(history.history['accuracy'])\n",
    "plt.plot(history.history['val_accuracy'])\n",
    "\n",
    "score = cnn.evaluate(test_data)\n",
    "\n",
    "cnn.save(\"cnn_model.h5\")\n"
   ]
  },
  {
   "cell_type": "code",
   "execution_count": 3,
   "metadata": {},
   "outputs": [
    {
     "name": "stdout",
     "output_type": "stream",
     "text": [
      "薑\n"
     ]
    }
   ],
   "source": [
    "#pred\n",
    "from keras.models import load_model\n",
    "import numpy as np\n",
    "from keras.preprocessing import image\n",
    "\n",
    "\n",
    "model = load_model('cnn_model.h5')\n",
    "# model.summary()\n",
    "\n",
    "test_img_path = 'bbb.jpg'\n",
    "test_img_path1 = 'ccc.jpg'\n",
    "test_img_path2 = 'ppp.jpg'\n",
    "\n",
    "img_pred = image.load_img(test_img_path2, target_size = (64, 64))\n",
    "img_pred = image.img_to_array(img_pred)\n",
    "img_pred = np.expand_dims(img_pred, axis = 0)\n",
    "rslt = model.predict(img_pred)\n",
    "\n",
    "if rslt[0][0] == 1:\n",
    "    prediction = \"Apple Red 2\"\n",
    "    print('蘋果')\n",
    "    \n",
    "elif rslt[0][1] == 1:\n",
    "    prediction = \"Apricot\"\n",
    "    print('桃子')\n",
    "    \n",
    "elif rslt[0][2] == 1:\n",
    "    prediction = \"Banana Lady Finger\"\n",
    "    print('香蕉')\n",
    "\n",
    "elif rslt[0][3] == 1:\n",
    "    prediction = \"Cantaloupe 1\"\n",
    "    print('檸檬')\n",
    "    \n",
    "elif rslt[0][4] == 1:\n",
    "    prediction = \"Carambula\"\n",
    "    print('楊桃')\n",
    "    \n",
    "elif rslt[0][5] == 1:\n",
    "    prediction = \"Cherry 2\"\n",
    "    print('櫻桃')\n",
    "    \n",
    "elif rslt[0][6] == 1:\n",
    "    prediction = \"Corn\"\n",
    "    print('玉米')\n",
    "    \n",
    "elif rslt[0][7] == 1:\n",
    "    prediction = \"Ginger Root\"\n",
    "    print('薑')\n",
    "    \n",
    "elif rslt[0][8] == 1:\n",
    "    prediction = \"Strawberry Wedge\"\n",
    "    print('草莓')\n",
    "    \n",
    "elif rslt[0][9] == 1:\n",
    "    prediction = \"Tomato Cherry Red\"\n",
    "    print('番茄')\n",
    "    \n",
    "elif rslt[0][10] == 1:\n",
    "    prediction = \"Watermelon\"\n",
    "    print('西瓜')\n"
   ]
  },
  {
   "cell_type": "code",
   "execution_count": null,
   "metadata": {},
   "outputs": [],
   "source": [
    "import coremltools\n",
    "from keras.models import load_model\n",
    "model = load_model('cnn_model1.h5')\n",
    "coreml_model = coremltools.converters.keras.convert(model, input_names=['image'], output_names=['output'],image_input_names='image')\n",
    "coreml_model.author = 'jed'\n",
    "coreml_model.short_description = 'furit'\n",
    "coreml_model.input_description['image'] = '64*64 image'\n",
    "coreml_model.output_description['output'] = 'Apple Red 2, Apricot, Banana Lady Finger, Cantaloupe 1, Carambula,Cherry 2,Corn, Ginger   Root, Strawberry Wedge,Tomato Cherry Red,Watermelon'\n",
    "coreml_model.save('xx.mlmodel')"
   ]
  }
 ],
 "metadata": {
  "kernelspec": {
   "display_name": "Python 3",
   "language": "python",
   "name": "python3"
  },
  "language_info": {
   "codemirror_mode": {
    "name": "ipython",
    "version": 3
   },
   "file_extension": ".py",
   "mimetype": "text/x-python",
   "name": "python",
   "nbconvert_exporter": "python",
   "pygments_lexer": "ipython3",
   "version": "3.7.6"
  }
 },
 "nbformat": 4,
 "nbformat_minor": 4
}
